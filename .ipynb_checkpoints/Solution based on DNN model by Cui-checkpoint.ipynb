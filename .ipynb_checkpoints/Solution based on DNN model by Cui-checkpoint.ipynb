{
 "cells": [
  {
   "cell_type": "code",
   "execution_count": null,
   "metadata": {},
   "outputs": [],
   "source": [
    "#    Define part\n",
    "from tensorflow import keras\n",
    "from tensorflow.keras import optimizers\n",
    "from tensorflow.keras.models import Model, load_model\n",
    "from tensorflow.keras.layers import Dense, BatchNormalization, Dropout, Input\n",
    "from sklearn.metrics import confusion_matrix\n",
    "import librosa\n",
    "import librosa.display\n",
    "import matplotlib.pyplot as plt\n",
    "import numpy as np\n",
    "import get_data_mfcc\n",
    "\n",
    "class AudioRecognition:\n",
    "\n",
    "    def __init__(self, train_data, train_labels, test_data, test_labels):\n",
    "        self.optimizer = optimizers.Adam(learning_rate=0.0001)\n",
    "        self.train_data = np.array(train_data)\n",
    "        self.test_data = np.array(test_data)\n",
    "        self.train_labels = np.zeros((len(train_labels), 10))\n",
    "        self.test_labels = np.zeros((len(test_labels), 10))\n",
    "        for i_ter, val in enumerate(train_labels):\n",
    "            self.train_labels[i_ter][int(val)] = 1\n",
    "        for i_ter, val in enumerate(test_labels):\n",
    "            self.test_labels[i_ter][int(val)] = 1\n",
    "        self.model = Model()\n",
    "\n",
    "    def build_model(self):\n",
    "        input_tensor = Input(shape=self.train_data[0].shape)\n",
    "        x = Dense(256, activation='relu')(input_tensor)\n",
    "        x = BatchNormalization()(x)\n",
    "        x = Dropout(0.2)(x)\n",
    "        x = Dense(128, activation='relu')(x)\n",
    "        x = BatchNormalization()(x)\n",
    "        x = Dropout(0.2)(x)\n",
    "        x = Dense(64, activation='relu')(x)\n",
    "        x = BatchNormalization()(x)\n",
    "        x = Dropout(0.2)(x)\n",
    "        x = Dense(32, activation='relu')(x)\n",
    "        output_tensor = Dense(10, activation='softmax')(x)\n",
    "        return input_tensor, output_tensor\n",
    "\n",
    "    def compile_model(self):\n",
    "        input_tensor, output_tensor = self.build_model()\n",
    "        self.model = Model(input_tensor, output_tensor)\n",
    "        self.model.compile(loss='categorical_crossentropy', optimizer='rmsprop', metrics=['accuracy'])\n",
    "        self.model.summary()\n",
    "\n",
    "    def fit_model(self):\n",
    "        history = self.model.fit(self.train_data, self.train_labels, epochs=200, batch_size=64,validation_data=(self.test_data, self.test_label))\n",
    "        \n",
    "    def save_model(self):\n",
    "        self.model.save_weights('weight.ckpt')\n",
    "        self.model.save_weights('DNN_model.h5')\n",
    "        \n",
    "    def predict_model(self):\n",
    "        pre_label = self.model.predict_classes(self.test_data)\n",
    "        return pre_label\n",
    "    \n",
    "    def predict_probablity_label(self):\n",
    "        pre_label = np.argmax(self.model.predict(self.test_data),axis = 1)\n",
    "        test_loss, test_accuracy = self.model.evaluate(self.test_data,self.test_labels)\n",
    "        print(f'Test Loss{test_loss},Test Accuacy{test_accuracy}')\n",
    "        return pre_label\n",
    "    \n",
    "    def predict_class(self):\n",
    "        pre_label = self.model.predict_classes(self.test_data)\n",
    "        return pre_label\n",
    "    \n",
    "    def print_confusion_matrix(self):\n",
    "        plot_confusion_matrix(self.model,self.test_data,self.test_labels)\n",
    "        "
   ]
  },
  {
   "cell_type": "code",
   "execution_count": null,
   "metadata": {},
   "outputs": [],
   "source": [
    "if __name__ == '__main__':\n",
    "    data = get_data_mfcc.GetData()\n",
    "    data.upset_file_name()\n",
    "    data.get_train_data()\n",
    "    data.get_test_data()\n",
    "    train_data = data.train_data\n",
    "    train_labels = data.train_labels\n",
    "    test_data = data.test_data\n",
    "    test_labels = data.test_labels"
   ]
  },
  {
   "cell_type": "code",
   "execution_count": null,
   "metadata": {},
   "outputs": [],
   "source": [
    "#    trainning\n",
    "    audio = AudioRecognition(train_data, train_labels, test_data, test_labels)\n",
    "    audio.build_model()\n",
    "    audio.compile_model()\n",
    "    audio.fit_model()\n",
    "#     audio.save_model()"
   ]
  },
  {
   "cell_type": "code",
   "execution_count": null,
   "metadata": {
    "scrolled": true
   },
   "outputs": [],
   "source": [
    "#    Calculate and plot the confusion matrix\n",
    "\n",
    "predict_label = audio.predict_probablity_label()\n",
    "cm = confusion_matrix(list(map(int,test_labels)), predict_label.tolist())\n",
    "\n",
    "plt.figure(dpi=100)\n",
    "plt.imshow(cm,cmap=plt.cm.Blues)\n",
    "tick_locs = np.arange(10)\n",
    "ticks = ['{}'.format(i) for i in range(0, 10)]\n",
    "plt.xticks(tick_locs, ticks)\n",
    "plt.yticks(tick_locs, ticks)\n",
    "plt.ylabel(\"True number\")\n",
    "plt.xlabel(\"Predicted number\")\n",
    "plt.title(\"Confusion matrix\")\n",
    "\n",
    "\n",
    "for first_index in range(len(cm)):    #rows\n",
    "    for second_index in range(len(cm[first_index])):    #columns\n",
    "        c = cm[second_index][first_index]\n",
    "        if c!= 0:\n",
    "            plt.text(first_index,second_index, c,color='red', fontsize=10, va='center', ha='center')\n",
    "            \n",
    "plt.show()"
   ]
  },
  {
   "cell_type": "code",
   "execution_count": null,
   "metadata": {},
   "outputs": [],
   "source": [
    "!dir"
   ]
  }
 ],
 "metadata": {
  "kernelspec": {
   "display_name": "Python 3",
   "language": "python",
   "name": "python3"
  },
  "language_info": {
   "codemirror_mode": {
    "name": "ipython",
    "version": 3
   },
   "file_extension": ".py",
   "mimetype": "text/x-python",
   "name": "python",
   "nbconvert_exporter": "python",
   "pygments_lexer": "ipython3",
   "version": "3.6.6"
  }
 },
 "nbformat": 4,
 "nbformat_minor": 4
}
