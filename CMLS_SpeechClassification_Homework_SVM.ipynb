{
 "cells": [
  {
   "cell_type": "code",
   "execution_count": 1,
   "metadata": {},
   "outputs": [],
   "source": [
    "###Import libraries\n",
    "import numpy as np\n",
    "import librosa\n",
    "import os\n",
    "import matplotlib.pyplot as plt\n",
    "import sklearn\n",
    "import IPython.display as ipd\n",
    "import scipy as sp\n",
    "import pandas as pd\n",
    "import sys\n",
    "#sys.path.append('free-spoken-digit-dataset/utils')\n",
    "#from trimmer import trim_silence as trs\n",
    "from sklearn.model_selection import train_test_split\n",
    "from sklearn.preprocessing import StandardScaler\n",
    "from sklearn.decomposition import PCA\n",
    "from sklearn.preprocessing import scale\n",
    "from sklearn.metrics import confusion_matrix\n",
    "from sklearn.metrics import plot_confusion_matrix\n",
    "from sklearn.model_selection import GridSearchCV\n",
    "from sklearn.svm import SVC\n",
    "from sklearn.metrics import mean_absolute_error as mae\n"
   ]
  },
  {
   "cell_type": "code",
   "execution_count": 2,
   "metadata": {},
   "outputs": [],
   "source": [
    "###Compute features\n",
    "def compute_mfcc(audio, fs, n_mfcc):\n",
    "    # Compute the spectrogram of the audio signal\n",
    "    X = np.abs(librosa.stft(\n",
    "        audio,\n",
    "        window='hamming',\n",
    "        n_fft=1024,\n",
    "        hop_length=512,)\n",
    "        )\n",
    "    \n",
    "    # Find the weights of the mel filters\n",
    "    mel = librosa.filters.mel(\n",
    "        sr=fs,\n",
    "        n_fft=1024,\n",
    "        n_mels=40,\n",
    "        fmin=133.33,\n",
    "        fmax=6853.8,\n",
    "    )\n",
    "    \n",
    "    # Apply the filters to spectrogram\n",
    "    melspectrogram = np.dot(mel, X)  #FILTER APPLYIANCE\n",
    "    # Take the logarithm\n",
    "    log_melspectrogram = np.log10(melspectrogram + 1e-16)\n",
    "    \n",
    "    # Apply the DCT to log melspectrogram to obtain the MFCC coefficients    \n",
    "    mfcc = sp.fftpack.dct(log_melspectrogram, axis=0, norm='ortho')[1:n_mfcc+1] #first coeff (mean of pow spectrum) discarded\n",
    "    return mfcc"
   ]
  },
  {
   "cell_type": "code",
   "execution_count": 3,
   "metadata": {},
   "outputs": [
    {
     "name": "stdout",
     "output_type": "stream",
     "text": [
      "300\n"
     ]
    }
   ],
   "source": [
    "###Compute training and testing features\n",
    "\n",
    "classes = ['0', '1', '2', '3', '4', '5', '6', '7', '8', '9']\n",
    "n_mfcc = 13\n",
    "\n",
    "#X_train, X_test, y_train, y_test = train_test_split(X, y,test_size=0.25,random_state=0)\n",
    "\n",
    "dict_train_features = {'zero': [], 'one': [], 'two': [], 'three': [], 'four':[], 'five':[], 'six':[], 'seven':[], 'eight':[], 'nine':[]}\n",
    "dict_test_features = {'zero': [], 'one': [], 'two': [], 'three': [], 'four':[], 'five':[], 'six':[], 'seven':[], 'eight':[], 'nine':[]}\n",
    "\n",
    "\n",
    "\n",
    "for c in classes:\n",
    "    root = 'free-spoken-digit-dataset/recordings'#percorso dataset (for each class!)\n",
    "    class_files = [f for f in os.listdir(root) if f.startswith(c)] #retrieve all elements in the dataset folder which starts with class' name\n",
    "    #class_files = class_files[:len(class_files)//2]\n",
    "    n_samples = len(class_files) #numero elementi nel dataset per la classe corrente\n",
    "    \n",
    "    #split dataset\n",
    "    train_files, test_files = train_test_split(class_files, test_size = 0.25, random_state = 21)\n",
    "    n_train_samples = len(train_files)\n",
    "    n_test_samples = len(test_files)\n",
    "    \n",
    "    train_features = np.zeros((n_train_samples, n_mfcc)) #matrice (n_train_samples x numero di mfcc)\n",
    "    test_features = np.zeros((n_test_samples, n_mfcc)) #matrice (n_test_samples x numero di mfcc)\n",
    "    \n",
    "    #TRAINING FEAT\n",
    "    for index, f in enumerate(train_files): #for each file in train dataset\n",
    "        audio, fs = librosa.load(os.path.join(root, f)) #load the current file\n",
    "        mfcc = compute_mfcc(audio, fs, n_mfcc) #compute its mfcc --> take care of the size(mfcc computation requires windowing, and files are relatively long...)\n",
    "        train_features[index, :] = np.mean(mfcc, axis = 1); #(...indeed, we reduce the dimension of each feature vector as (n_mfcc x 1))\n",
    "    #save in dict    \n",
    "    dict_train_features[c] = train_features\n",
    "    \n",
    "    #TESTING FEAT\n",
    "    for index, f in enumerate(test_files): #for each file in train dataset\n",
    "        audio, fs = librosa.load(os.path.join(root, f)) #load the current file\n",
    "        mfcc = compute_mfcc(audio, fs, n_mfcc) #compute its mfcc --> take care of the size(mfcc computation requires windowing, and files are relatively long...)\n",
    "        test_features[index, :] = np.mean(mfcc, axis = 1); #(...indeed, we reduce the dimension of each feature vector as (n_mfcc x 1))\n",
    "    #save in dict    \n",
    "    dict_test_features[c] = test_features\n",
    "print(n_samples)       "
   ]
  },
  {
   "cell_type": "code",
   "execution_count": 4,
   "metadata": {},
   "outputs": [
    {
     "name": "stdout",
     "output_type": "stream",
     "text": [
      "(750, 13)\n"
     ]
    }
   ],
   "source": [
    "#Retrieve from the dictionaries and define through concatenation one training features vector of feature vectors(the mfcc coeffs for each audio file)\n",
    "X_train_0 = dict_train_features['0']\n",
    "X_train_1 = dict_train_features['1']\n",
    "X_train_2 = dict_train_features['2']\n",
    "X_train_3 = dict_train_features['3']\n",
    "X_train_4 = dict_train_features['4']\n",
    "X_train_5 = dict_train_features['5']\n",
    "X_train_6 = dict_train_features['6']\n",
    "X_train_7 = dict_train_features['7']\n",
    "X_train_8 = dict_train_features['8']\n",
    "X_train_9 = dict_train_features['9']\n",
    "\n",
    "X_train = np.concatenate((X_train_0, X_train_1, X_train_2, X_train_3, X_train_4, X_train_5, X_train_6,\n",
    "                          X_train_7, X_train_8, X_train_9), axis=0)\n",
    "\n",
    "X_test_0 = dict_test_features['0']\n",
    "X_test_1 = dict_test_features['1']\n",
    "X_test_2 = dict_test_features['2']\n",
    "X_test_3 = dict_test_features['3']\n",
    "X_test_4 = dict_test_features['4']\n",
    "X_test_5 = dict_test_features['5']\n",
    "X_test_6 = dict_test_features['6']\n",
    "X_test_7 = dict_test_features['7']\n",
    "X_test_8 = dict_test_features['8']\n",
    "X_test_9 = dict_test_features['9']\n",
    "X_test = np.concatenate((X_test_0, X_test_1, X_test_2, X_test_3, X_test_4, X_test_5, X_test_6, X_test_7,\n",
    "                        X_test_8, X_test_9), axis=0)\n",
    "print(X_test.shape)\n",
    "\n",
    "#define a label that will be associated with our (concatenated) training features (becero way)\n",
    "y_train_0 = np.zeros((X_train_0.shape[0],))\n",
    "y_train_1 = np.ones((X_train_1.shape[0],))\n",
    "y_train_2 = np.ones((X_train_2.shape[0],))*2\n",
    "y_train_3 = np.ones((X_train_3.shape[0],))*3\n",
    "y_train_4 = np.ones((X_train_4.shape[0],))*4\n",
    "y_train_5 = np.ones((X_train_5.shape[0],))*5\n",
    "y_train_6 = np.ones((X_train_6.shape[0],))*6\n",
    "y_train_7 = np.ones((X_train_7.shape[0],))*7\n",
    "y_train_8 = np.ones((X_train_8.shape[0],))*8\n",
    "y_train_9 = np.ones((X_train_9.shape[0],))*9\n",
    "y_train = np.concatenate((y_train_0, y_train_1, y_train_2, y_train_3, y_train_4, y_train_5, y_train_6,\n",
    "                         y_train_7, y_train_8, y_train_9), axis=0)\n",
    "\n",
    "y_test_0 = np.zeros((X_test_0.shape[0],))\n",
    "y_test_1 = np.ones((X_test_1.shape[0],))\n",
    "y_test_2 = np.ones((X_test_2.shape[0],))*2\n",
    "y_test_3 = np.ones((X_test_3.shape[0],))*3\n",
    "y_test_4 = np.ones((X_test_4.shape[0],))*4\n",
    "y_test_5 = np.ones((X_test_5.shape[0],))*5\n",
    "y_test_6 = np.ones((X_test_6.shape[0],))*6\n",
    "y_test_7 = np.ones((X_test_7.shape[0],))*7\n",
    "y_test_8 = np.ones((X_test_8.shape[0],))*8\n",
    "y_test_9 = np.ones((X_test_9.shape[0],))*9\n",
    "y_test = np.concatenate((y_test_0, y_test_1, y_test_2, y_test_3, y_test_4, y_test_5, y_test_6, y_test_7,\n",
    "                        y_test_8, y_test_9), axis=0)\n"
   ]
  },
  {
   "cell_type": "code",
   "execution_count": 5,
   "metadata": {},
   "outputs": [],
   "source": [
    "#We have to center and scale the data using training stats before feeding the classifier (zero mean, variance = 1) --> Ok\n",
    "scaler = StandardScaler()\n",
    "scaler.fit(X_train)\n",
    "X_train_scaled = scaler.transform(X_train)\n",
    "X_test_scaled = scaler.transform(X_test)\n"
   ]
  },
  {
   "cell_type": "code",
   "execution_count": 6,
   "metadata": {},
   "outputs": [
    {
     "name": "stdout",
     "output_type": "stream",
     "text": [
      "Train MAE: 0.13777777777777778, Test MAE: 0.2\n"
     ]
    }
   ],
   "source": [
    "#CLASSIFICATION\n",
    "SVM_parameters={\n",
    "    'C': 1,\n",
    "    'kernel': 'rbf',\n",
    "    'random_state': 21,\n",
    "}\n",
    "\n",
    "clf = sklearn.svm.SVC(**SVM_parameters)\n",
    "clf.fit(X_train_scaled, y_train)\n",
    "\n",
    "p_train = clf.predict(X_train_scaled)\n",
    "p_test = clf.predict(X_test_scaled)\n",
    "\n",
    "mae_train = mae(y_train, p_train)\n",
    "mae_test = mae(y_test,p_test)\n",
    "print(f'Train MAE: {mae_train}, Test MAE: {mae_test}')"
   ]
  },
  {
   "cell_type": "code",
   "execution_count": 7,
   "metadata": {},
   "outputs": [
    {
     "name": "stdout",
     "output_type": "stream",
     "text": [
      "[0.992      0.98533333 0.98666667 0.98666667 0.99866667 0.996\n",
      " 0.984      0.98666667 0.99333333 0.984     ]\n"
     ]
    },
    {
     "data": {
      "image/png": "[encoded data removed]",
      "text/plain": [
       "<Figure size 432x288 with 2 Axes>"
      ]
     },
     "metadata": {
      "needs_background": "light"
     },
     "output_type": "display_data"
    }
   ],
   "source": [
    "#See how does this classifier perform feeding it with testing dataset\n",
    "cnf_matrix = confusion_matrix(y_test, p_test)\n",
    "\n",
    "FP = cnf_matrix.sum(axis=0) - np.diag(cnf_matrix) \n",
    "FN = cnf_matrix.sum(axis=1) - np.diag(cnf_matrix)\n",
    "TP = np.diag(cnf_matrix)\n",
    "TN = cnf_matrix.sum() - (FP + FN + TP)\n",
    "FP = FP.astype(float)\n",
    "FN = FN.astype(float)\n",
    "TP = TP.astype(float)\n",
    "TN = TN.astype(float)\n",
    "# Sensitivity, hit rate, recall, or true positive rate\n",
    "TPR = TP/(TP+FN)\n",
    "# Specificity or true negative rate\n",
    "TNR = TN/(TN+FP) \n",
    "# Precision or positive predictive value\n",
    "PPV = TP/(TP+FP)\n",
    "# Negative predictive value\n",
    "NPV = TN/(TN+FN)\n",
    "# Fall out or false positive rate\n",
    "FPR = FP/(FP+TN)\n",
    "# False negative rate\n",
    "FNR = FN/(TP+FN)\n",
    "# False discovery rate\n",
    "FDR = FP/(TP+FP)\n",
    "# Overall accuracy for each class\n",
    "ACC = (TP+TN)/(TP+FP+FN+TN)\n",
    "\n",
    "plot_confusion_matrix(clf, X_test_scaled, y_test)\n",
    "print(ACC)"
   ]
  },
  {
   "cell_type": "code",
   "execution_count": 8,
   "metadata": {},
   "outputs": [
    {
     "name": "stdout",
     "output_type": "stream",
     "text": [
      "{'C': 10, 'gamma': 0.1, 'kernel': 'rbf'}\n"
     ]
    }
   ],
   "source": [
    "#Optimize SVM parameters with cross validation \n",
    "#also including C = 1  and gamma = 'scale' as they are set by default\n",
    "param_grid = [\n",
    "    {\n",
    "        'C':[0.5, 1, 10, 100],\n",
    "        'gamma':['scale', 1, 0.1, 0.01, 0.001],\n",
    "        'kernel': ['rbf'],\n",
    "    }\n",
    "]\n",
    "\n",
    "optimal_params = GridSearchCV(\n",
    "    SVC(), #classifier shell\n",
    "    param_grid,\n",
    "    cv = 5,\n",
    "    scoring = 'accuracy',\n",
    "    verbose = 0\n",
    ")\n",
    "\n",
    "optimal_params.fit(X_train_scaled, y_train)\n",
    "print(optimal_params.best_params_)\n",
    "\n"
   ]
  },
  {
   "cell_type": "code",
   "execution_count": 9,
   "metadata": {},
   "outputs": [
    {
     "name": "stdout",
     "output_type": "stream",
     "text": [
      "Train opt MAE: 0.013777777777777778, Test opt MAE: 0.152\n"
     ]
    }
   ],
   "source": [
    "#RE-TUNE SVM\n",
    "SVM_parameters={\n",
    "    'C': 10,\n",
    "    'gamma': 0.1,\n",
    "    'kernel': 'rbf',\n",
    "    'random_state': 21,\n",
    "}\n",
    "\n",
    "clf = sklearn.svm.SVC(**SVM_parameters)\n",
    "clf.fit(X_train_scaled, y_train)\n",
    "p_train_opt = clf.predict(X_train_scaled)\n",
    "p_test_opt = clf.predict(X_test_scaled)\n",
    "\n",
    "mae_train_opt = mae(y_train, p_train_opt)\n",
    "mae_test_opt = mae(y_test,p_test_opt)\n",
    "print(f'Train opt MAE: {mae_train_opt}, Test opt MAE: {mae_test_opt}')"
   ]
  },
  {
   "cell_type": "code",
   "execution_count": 10,
   "metadata": {},
   "outputs": [
    {
     "name": "stdout",
     "output_type": "stream",
     "text": [
      "[0.98666667 0.992      0.98666667 0.98533333 1.         0.996\n",
      " 0.988      0.988      0.99333333 0.98533333]\n"
     ]
    },
    {
     "data": {
      "image/png": "[encoded data removed]",
      "text/plain": [
       "<Figure size 432x288 with 2 Axes>"
      ]
     },
     "metadata": {
      "needs_background": "light"
     },
     "output_type": "display_data"
    }
   ],
   "source": [
    "#Check the result\n",
    "cnf_matrix = confusion_matrix(y_test, p_test_opt)\n",
    "FP = cnf_matrix.sum(axis=0) - np.diag(cnf_matrix) \n",
    "FN = cnf_matrix.sum(axis=1) - np.diag(cnf_matrix)\n",
    "TP = np.diag(cnf_matrix)\n",
    "TN = cnf_matrix.sum() - (FP + FN + TP)\n",
    "FP = FP.astype(float)\n",
    "FN = FN.astype(float)\n",
    "TP = TP.astype(float)\n",
    "TN = TN.astype(float)\n",
    "\n",
    "ACC = (TP+TN)/(TP+FP+FN+TN)\n",
    "plot_confusion_matrix(clf, X_test_scaled, y_test)\n",
    "print(ACC)"
   ]
  },
  {
   "cell_type": "code",
   "execution_count": 11,
   "metadata": {},
   "outputs": [
    {
     "data": {
      "image/png": "[encoded data removed]",
      "text/plain": [
       "<Figure size 432x288 with 1 Axes>"
      ]
     },
     "metadata": {
      "needs_background": "light"
     },
     "output_type": "display_data"
    }
   ],
   "source": [
    "#we're working with 13 dimensions (1 for each feature, i.e. MFFC), so we can't plot them\n",
    "#Each principal component is a linear comb of all M features (MFCC), computed with the M best fitting line in feature space\n",
    "pca = PCA() #by default, it centers the data but we also have to scale them\n",
    "X_test_pca = pca.fit_transform(X_test_scaled)\n",
    "#How good PCA \"approximation\" is in describing what's going on?\n",
    "per_var = np.round(pca.explained_variance_ratio_ * 100, decimals = 1)#expl variance = SSd(nth PC) / (n_samples - 1), account the weight for each PC\n",
    "labels = [str(x) for x in range(1, len(per_var)+1)]\n",
    "plt.bar(x = range(1, len(per_var)+1), height = per_var)\n",
    "plt.tick_params(\n",
    "    axis = 'x',\n",
    "    which = 'both',\n",
    "    bottom = False,\n",
    "    top = False,\n",
    "    labelbottom = False)\n",
    "plt.ylabel('Percentage of Explained Variance')\n",
    "plt.xlabel('Principal Components')\n",
    "plt.title('Scree Plot')\n",
    "plt.show()\n"
   ]
  },
  {
   "cell_type": "code",
   "execution_count": 12,
   "metadata": {},
   "outputs": [
    {
     "name": "stdout",
     "output_type": "stream",
     "text": [
      "mfcc1    -0.413911\n",
      "mfcc9    -0.413616\n",
      "mfcc8     0.395009\n",
      "mfcc3     0.375861\n",
      "mfcc5     0.368578\n",
      "mfcc12   -0.318639\n",
      "mfcc2    -0.188144\n",
      "mfcc11    0.161578\n",
      "mfcc7    -0.144557\n",
      "mfcc6    -0.142695\n",
      "mfcc10   -0.092862\n",
      "mfcc13   -0.077041\n",
      "dtype: float64\n"
     ]
    }
   ],
   "source": [
    "#Check out what are the features that build up the most the PC1 values\n",
    "mfcc_label = ['mfcc' + str(i) for i in range(1,14)]\n",
    "loading_scores = pd.Series(pca.components_[0], index = mfcc_label) \n",
    "sorted_loading_scores = loading_scores.abs().sort_values(ascending=False)\n",
    "top_mfcc = sorted_loading_scores[0:12].index.values\n",
    "print(loading_scores[top_mfcc])"
   ]
  },
  {
   "cell_type": "code",
   "execution_count": 13,
   "metadata": {},
   "outputs": [
    {
     "data": {
      "image/png": "[encoded data removed]",
      "text/plain": [
       "<Figure size 576x360 with 1 Axes>"
      ]
     },
     "metadata": {
      "needs_background": "light"
     },
     "output_type": "display_data"
    }
   ],
   "source": [
    "#2D plot using the first two PC\n",
    "\n",
    "model = PCA(n_components = 2, whiten = True, svd_solver='auto')\n",
    "model.fit(X_train_scaled)\n",
    "Y = model.transform(X_train_scaled)\n",
    "\n",
    "\n",
    "plt.figure(figsize=(8,5))\n",
    "plt.scatter(Y[y_train==1,0], Y[y_train==1,1], c='b')\n",
    "plt.scatter(Y[y_train==0,0], Y[y_train==0,1], c='r')\n",
    "plt.xlabel('PC1')\n",
    "plt.ylabel('PC2')\n",
    "plt.title('Discriminant effect of the first two PC on test data')\n",
    "plt.legend(('Zero', 'One'))\n",
    "plt.show()"
   ]
  },
  {
   "cell_type": "code",
   "execution_count": 14,
   "metadata": {},
   "outputs": [],
   "source": [
    "#Plot an instance of the SVM (just for having an example)\n",
    "def draw_classplane(ax,w,xrange):\n",
    "  w = model.coef_[0]\n",
    "  b = model.intercept_[0]\n",
    "  a = -w[0] / w[1]\n",
    "  xx = np.linspace(-3, 3)\n",
    "  yy = a * xx - (b/ w[1])\n",
    "  margin = 1 / np.sqrt(np.sum(w** 2))\n",
    "  yy_down = yy - np.sqrt(1 + a ** 2) * margin\n",
    "  yy_up = yy + np.sqrt(1 + a ** 2) * margin\n",
    "  ax.plot(xx, yy, 'k-')\n",
    "  ax.plot(xx, yy_down, 'k--')\n",
    "  ax.plot(xx, yy_up, 'k--')"
   ]
  },
  {
   "cell_type": "code",
   "execution_count": 16,
   "metadata": {},
   "outputs": [
    {
     "data": {
      "image/png": "[encoded data removed]",
      "text/plain": [
       "<Figure size 576x360 with 1 Axes>"
      ]
     },
     "metadata": {
      "needs_background": "light"
     },
     "output_type": "display_data"
    }
   ],
   "source": [
    "c_param=1\n",
    "model = sklearn.svm.SVC(kernel='linear', C=c_param)\n",
    "model.fit(X_train_scaled,y_train)\n",
    "labels=model.predict(X_train_scaled)\n",
    "\n",
    "plt.figure(figsize=(8,5))\n",
    "plt.scatter(X_train_scaled[labels==1,0],X_train_scaled[labels==1,1], c='b')\n",
    "plt.scatter(X_train_scaled[labels==0,0], X_train_scaled[labels==0,1], c='r')\n",
    "plt.xlabel('PC1')\n",
    "plt.ylabel('PC2')\n",
    "plt.title('Maximum Margin')\n",
    "plt.legend(('Zero', 'One'))\n",
    "\n",
    "\n",
    "draw_classplane(plt.gca(), model.coef_[0], (0,1))"
   ]
  },
  {
   "cell_type": "code",
   "execution_count": null,
   "metadata": {},
   "outputs": [],
   "source": []
  }
 ],
 "metadata": {
  "kernelspec": {
   "display_name": "Python 3",
   "language": "python",
   "name": "python3"
  },
  "language_info": {
   "codemirror_mode": {
    "name": "ipython",
    "version": 3
   },
   "file_extension": ".py",
   "mimetype": "text/x-python",
   "name": "python",
   "nbconvert_exporter": "python",
   "pygments_lexer": "ipython3",
   "version": "3.8.5"
  }
 },
 "nbformat": 4,
 "nbformat_minor": 4
}
